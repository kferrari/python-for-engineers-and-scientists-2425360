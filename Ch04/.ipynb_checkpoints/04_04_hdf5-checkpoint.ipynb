{
 "cells": [
  {
   "cell_type": "markdown",
   "metadata": {},
   "source": [
    "# 04_04_hdf5.ipynb - Scientific datasets with HDF5 "
   ]
  },
  {
   "cell_type": "code",
   "execution_count": 1,
   "metadata": {},
   "outputs": [],
   "source": [
    "import numpy as np\n",
    "import scipy.interpolate\n",
    "import matplotlib.pyplot as pp\n",
    "import matplotlib.mlab as mlab\n",
    "\n",
    "import h5py"
   ]
  },
  {
   "cell_type": "code",
   "execution_count": 2,
   "metadata": {},
   "outputs": [],
   "source": [
    "# if you don't have the hdf5 files from 04_02_web, \n",
    "# you can find them in the folder cache\n",
    "h1file = h5py.File('H-H1_GWOSC_4KHZ_R1-1126259447-32.hdf5', 'r')"
   ]
  },
  {
   "cell_type": "code",
   "execution_count": 3,
   "metadata": {},
   "outputs": [
    {
     "data": {
      "text/plain": [
       "<HDF5 file \"H-H1_GWOSC_4KHZ_R1-1126259447-32.hdf5\" (mode r)>"
      ]
     },
     "execution_count": 3,
     "metadata": {},
     "output_type": "execute_result"
    }
   ],
   "source": [
    "h1file"
   ]
  },
  {
   "cell_type": "code",
   "execution_count": 4,
   "metadata": {},
   "outputs": [
    {
     "name": "stdout",
     "output_type": "stream",
     "text": [
      "meta <HDF5 group \"/meta\" (8 members)>\n",
      "meta/Description <HDF5 dataset \"Description\": shape (), type \"|O\">\n",
      "meta/DescriptionURL <HDF5 dataset \"DescriptionURL\": shape (), type \"|O\">\n",
      "meta/Detector <HDF5 dataset \"Detector\": shape (), type \"|O\">\n",
      "meta/Duration <HDF5 dataset \"Duration\": shape (), type \"<i8\">\n",
      "meta/GPSstart <HDF5 dataset \"GPSstart\": shape (), type \"<i8\">\n",
      "meta/Observatory <HDF5 dataset \"Observatory\": shape (), type \"|O\">\n",
      "meta/Type <HDF5 dataset \"Type\": shape (), type \"|O\">\n",
      "meta/UTCstart <HDF5 dataset \"UTCstart\": shape (), type \"|O\">\n",
      "quality <HDF5 group \"/quality\" (3 members)>\n",
      "quality/detail <HDF5 group \"/quality/detail\" (0 members)>\n",
      "quality/injections <HDF5 group \"/quality/injections\" (3 members)>\n",
      "quality/injections/InjDescriptions <HDF5 dataset \"InjDescriptions\": shape (5,), type \"|S29\">\n",
      "quality/injections/InjShortnames <HDF5 dataset \"InjShortnames\": shape (5,), type \"|S17\">\n",
      "quality/injections/Injmask <HDF5 dataset \"Injmask\": shape (32,), type \"<u4\">\n",
      "quality/simple <HDF5 group \"/quality/simple\" (3 members)>\n",
      "quality/simple/DQDescriptions <HDF5 dataset \"DQDescriptions\": shape (7,), type \"|S22\">\n",
      "quality/simple/DQShortnames <HDF5 dataset \"DQShortnames\": shape (7,), type \"|S10\">\n",
      "quality/simple/DQmask <HDF5 dataset \"DQmask\": shape (32,), type \"<u4\">\n",
      "strain <HDF5 group \"/strain\" (1 members)>\n",
      "strain/Strain <HDF5 dataset \"Strain\": shape (131072,), type \"<f8\">\n"
     ]
    }
   ],
   "source": [
    "h1file.visititems(print)"
   ]
  },
  {
   "cell_type": "code",
   "execution_count": 5,
   "metadata": {},
   "outputs": [
    {
     "data": {
      "text/plain": [
       "<KeysViewHDF5 ['meta', 'quality', 'strain']>"
      ]
     },
     "execution_count": 5,
     "metadata": {},
     "output_type": "execute_result"
    }
   ],
   "source": [
    "h1file.keys()"
   ]
  },
  {
   "cell_type": "code",
   "execution_count": 6,
   "metadata": {},
   "outputs": [
    {
     "data": {
      "text/plain": [
       "b'Strain data time series from LIGO'"
      ]
     },
     "execution_count": 6,
     "metadata": {},
     "output_type": "execute_result"
    }
   ],
   "source": [
    "h1file['meta']['Description'][()]"
   ]
  },
  {
   "cell_type": "code",
   "execution_count": null,
   "metadata": {},
   "outputs": [],
   "source": [
    "h1file['meta/UTCstart'][()]"
   ]
  },
  {
   "cell_type": "code",
   "execution_count": null,
   "metadata": {},
   "outputs": [],
   "source": [
    "h1file['meta/GPSstart'][()]"
   ]
  },
  {
   "cell_type": "code",
   "execution_count": null,
   "metadata": {},
   "outputs": [],
   "source": [
    "h1strain = h1file['strain/Strain']"
   ]
  },
  {
   "cell_type": "code",
   "execution_count": null,
   "metadata": {},
   "outputs": [],
   "source": [
    "h1strain"
   ]
  },
  {
   "cell_type": "code",
   "execution_count": null,
   "metadata": {},
   "outputs": [],
   "source": [
    "h1strain[:10]"
   ]
  },
  {
   "cell_type": "code",
   "execution_count": null,
   "metadata": {},
   "outputs": [],
   "source": [
    "h1attrs = h1file['strain/Strain'].attrs"
   ]
  },
  {
   "cell_type": "code",
   "execution_count": null,
   "metadata": {},
   "outputs": [],
   "source": [
    "h1attrs"
   ]
  },
  {
   "cell_type": "code",
   "execution_count": null,
   "metadata": {},
   "outputs": [],
   "source": [
    "dict(h1attrs)"
   ]
  },
  {
   "cell_type": "code",
   "execution_count": null,
   "metadata": {},
   "outputs": [],
   "source": [
    "gpstime = h1attrs['Xstart'] + h1attrs['Xspacing'] * np.arange(h1attrs['Npoints'])"
   ]
  },
  {
   "cell_type": "code",
   "execution_count": null,
   "metadata": {},
   "outputs": [],
   "source": [
    "pp.plot(gpstime, h1strain)"
   ]
  },
  {
   "cell_type": "code",
   "execution_count": null,
   "metadata": {},
   "outputs": [],
   "source": [
    "tevent = 1126259462.4"
   ]
  },
  {
   "cell_type": "code",
   "execution_count": null,
   "metadata": {},
   "outputs": [],
   "source": [
    "around = (gpstime > tevent - 0.1) & (gpstime < tevent + 0.1)"
   ]
  },
  {
   "cell_type": "code",
   "execution_count": null,
   "metadata": {},
   "outputs": [],
   "source": [
    "pp.plot(gpstime[around] - tevent, h1strain[around])"
   ]
  },
  {
   "cell_type": "code",
   "execution_count": null,
   "metadata": {},
   "outputs": [],
   "source": [
    "psd, freqs = mlab.psd(h1strain,\n",
    "                      NFFT=4096*4,  # use four seconds of data to compute the spectrum\n",
    "                      Fs=4096)      # this is the sampling rate of the data in Hz\n",
    "\n",
    "pp.loglog(freqs, np.sqrt(psd))      # plot the sqrt of spectrum (power spectral density)\n",
    "\n",
    "pp.xlabel('f [Hz]'); pp.ylabel('PSD [1/sqrt(Hz)]')\n",
    "pp.axis(xmin=5, xmax=1024, ymin=1e-24, ymax=1e-18);"
   ]
  },
  {
   "cell_type": "code",
   "execution_count": null,
   "metadata": {},
   "outputs": [],
   "source": [
    "def whiten(strain, sampling=4096, bandpass=[20,350]):\n",
    "    # compute the spectrum\n",
    "    psd, psd_freqs = mlab.psd(strain, NFFT=sampling*4, Fs=sampling)\n",
    "\n",
    "    # max out the spectrum outside the bandpass\n",
    "    psd[(psd_freqs < bandpass[0]) | (psd_freqs > bandpass[1])] = np.max(psd)\n",
    "    \n",
    "    dt = 1/sampling\n",
    "\n",
    "    # compute the real FFT and the corresponding frequencies\n",
    "    strain_fft = np.fft.rfft(strain)\n",
    "    fft_freqs = np.fft.rfftfreq(len(strain), dt)\n",
    "\n",
    "    # interpolate the spectrum to the FFT frequencies\n",
    "    psd_fft = scipy.interpolate.interp1d(psd_freqs, psd)(fft_freqs)\n",
    "    \n",
    "    # whiten and transform back to real space\n",
    "    whitened = np.fft.irfft(strain_fft / np.sqrt(psd_fft) * np.sqrt(2*dt))\n",
    "    \n",
    "    return whitened"
   ]
  },
  {
   "cell_type": "code",
   "execution_count": null,
   "metadata": {},
   "outputs": [],
   "source": [
    "pp.figure(figsize=(12,3))\n",
    "pp.plot(gpstime[around] - tevent, whiten(h1strain)[around])"
   ]
  },
  {
   "cell_type": "code",
   "execution_count": null,
   "metadata": {},
   "outputs": [],
   "source": [
    "l1file = h5py.File('L-L1_GWOSC_4KHZ_R1-1126259447-32.hdf5', 'r')"
   ]
  },
  {
   "cell_type": "code",
   "execution_count": null,
   "metadata": {},
   "outputs": [],
   "source": [
    "l1strain = l1file['strain/Strain']"
   ]
  },
  {
   "cell_type": "code",
   "execution_count": null,
   "metadata": {},
   "outputs": [],
   "source": [
    "pp.figure(figsize=(12,3))\n",
    "pp.plot(gpstime[around] - tevent, whiten(h1strain)[around])\n",
    "pp.plot(gpstime[around] - tevent, whiten(l1strain)[around])"
   ]
  },
  {
   "cell_type": "code",
   "execution_count": null,
   "metadata": {},
   "outputs": [],
   "source": [
    "pp.figure(figsize=(12,3))\n",
    "pp.plot(gpstime[around] - tevent, whiten(h1strain)[around])\n",
    "pp.plot(gpstime[around] - tevent + 0.007, -whiten(l1strain)[around])"
   ]
  },
  {
   "cell_type": "code",
   "execution_count": null,
   "metadata": {},
   "outputs": [],
   "source": []
  }
 ],
 "metadata": {
  "kernelspec": {
   "display_name": "Python 3 (ipykernel)",
   "language": "python",
   "name": "python3"
  },
  "language_info": {
   "codemirror_mode": {
    "name": "ipython",
    "version": 3
   },
   "file_extension": ".py",
   "mimetype": "text/x-python",
   "name": "python",
   "nbconvert_exporter": "python",
   "pygments_lexer": "ipython3",
   "version": "3.10.9"
  },
  "toc": {
   "base_numbering": 1,
   "nav_menu": {},
   "number_sections": true,
   "sideBar": true,
   "skip_h1_title": false,
   "title_cell": "Table of Contents",
   "title_sidebar": "Contents",
   "toc_cell": false,
   "toc_position": {},
   "toc_section_display": true,
   "toc_window_display": false
  }
 },
 "nbformat": 4,
 "nbformat_minor": 4
}
