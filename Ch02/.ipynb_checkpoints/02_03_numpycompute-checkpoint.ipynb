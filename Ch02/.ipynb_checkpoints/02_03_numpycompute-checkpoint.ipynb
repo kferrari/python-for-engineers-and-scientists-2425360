{
 "cells": [
  {
   "cell_type": "markdown",
   "metadata": {},
   "source": [
    "# 02_03_numpycompute.ipynb -  Matrix operations with NumPy"
   ]
  },
  {
   "cell_type": "code",
   "execution_count": 1,
   "metadata": {},
   "outputs": [],
   "source": [
    "import math\n",
    "\n",
    "import numpy as np\n",
    "import matplotlib.pyplot as pp"
   ]
  },
  {
   "cell_type": "markdown",
   "metadata": {},
   "source": [
    "**Poisson equation**:\n",
    "\n",
    "$$\\frac{\\partial^2 \\phi(x,y)}{\\partial x^2} + \\frac{\\partial^2 \\phi(x,y)}{\\partial y^2} = 0$$"
   ]
  },
  {
   "cell_type": "markdown",
   "metadata": {},
   "source": [
    "**Finite-difference representation of second derivatives:**\n",
    "\n",
    "$$\\frac{\\partial^2 \\phi(x_i,y_j)}{\\partial x^2} + \\frac{\\partial^2 \\phi(x_i,y_j)}{\\partial y^2} \\simeq\n",
    "\\phi(x_{i-1},y_j) + \\phi(x_{i+1},y_j) + \\phi(x_i,y_{j-1}) + \\phi(x_i,y_{j+1}) - 4 \\phi(x_i,y_j)$$"
   ]
  },
  {
   "cell_type": "code",
   "execution_count": 2,
   "metadata": {},
   "outputs": [],
   "source": [
    "n = 64\n",
    "phi = np.zeros((n,n), 'd')  # 'd' is shorthand for np.float64"
   ]
  },
  {
   "cell_type": "code",
   "execution_count": 3,
   "metadata": {},
   "outputs": [],
   "source": [
    "phi[-1,:] = 1"
   ]
  },
  {
   "cell_type": "code",
   "execution_count": 4,
   "metadata": {},
   "outputs": [
    {
     "data": {
      "text/plain": [
       "<matplotlib.image.AxesImage at 0x1126d7b80>"
      ]
     },
     "execution_count": 4,
     "metadata": {},
     "output_type": "execute_result"
    },
    {
     "data": {
      "image/png": "[encoded data removed]",
      "text/plain": [
       "<Figure size 640x480 with 1 Axes>"
      ]
     },
     "metadata": {},
     "output_type": "display_data"
    }
   ],
   "source": [
    "# show transpose and set origin='lower' for Cartesian convention  \n",
    "pp.imshow(phi.T, origin='lower', extent=(0,1,0,1))"
   ]
  },
  {
   "cell_type": "markdown",
   "metadata": {},
   "source": [
    "**Boundary conditions:**\n",
    "\n",
    "$$\\begin{eqnarray}\\phi(x=0, y) &=& 0 \\\\\n",
    "\\phi(x, y=0) &=& 0 \\\\\n",
    "\\phi(x, y=1) &=& \\sin(2 \\pi x) \\\\\n",
    "\\phi(x=1, y) &=& -\\sin(2 \\pi y)\\end{eqnarray}$$"
   ]
  },
  {
   "cell_type": "code",
   "execution_count": null,
   "metadata": {},
   "outputs": [],
   "source": [
    "dx = 1/n\n",
    "xs = np.linspace(0.5*dx, 1-0.5*dx, n)"
   ]
  },
  {
   "cell_type": "code",
   "execution_count": null,
   "metadata": {},
   "outputs": [],
   "source": [
    "xs"
   ]
  },
  {
   "cell_type": "code",
   "execution_count": null,
   "metadata": {},
   "outputs": [],
   "source": [
    "for i in range(n):\n",
    "    phi[i,-1] = math.sin(2 * math.pi * xs[i])"
   ]
  },
  {
   "cell_type": "code",
   "execution_count": null,
   "metadata": {},
   "outputs": [],
   "source": [
    "np.sin(2 * math.pi * xs)"
   ]
  },
  {
   "cell_type": "code",
   "execution_count": null,
   "metadata": {},
   "outputs": [],
   "source": [
    "phi[:,-1] = np.sin(2 * math.pi * xs)"
   ]
  },
  {
   "cell_type": "code",
   "execution_count": null,
   "metadata": {},
   "outputs": [],
   "source": [
    "phi[-1,:] = -np.sin(2 * math.pi * xs)"
   ]
  },
  {
   "cell_type": "code",
   "execution_count": null,
   "metadata": {},
   "outputs": [],
   "source": [
    "def initphi(n=64):\n",
    "    dx = 1/n\n",
    "    xs = np.linspace(0.5*dx, 1-0.5*dx, n)\n",
    "    \n",
    "    phi = np.zeros((n,n), 'd')\n",
    "    \n",
    "    phi[:,-1] = np.sin(2 * math.pi * xs)\n",
    "    phi[-1,:] = -np.sin(2 * math.pi * xs)\n",
    "    \n",
    "    return phi"
   ]
  },
  {
   "cell_type": "code",
   "execution_count": null,
   "metadata": {},
   "outputs": [],
   "source": [
    "def showphi(array, colorbar=True):\n",
    "    pp.imshow(array.T, origin='lower', extent=(0,1,0,1),\n",
    "              vmin=-1, vmax=1, cmap='coolwarm')\n",
    "    \n",
    "    if colorbar:\n",
    "        pp.colorbar()"
   ]
  },
  {
   "cell_type": "code",
   "execution_count": null,
   "metadata": {},
   "outputs": [],
   "source": [
    "showphi(initphi())"
   ]
  },
  {
   "cell_type": "code",
   "execution_count": null,
   "metadata": {},
   "outputs": [],
   "source": [
    "def jacobi(array):\n",
    "    # make a copy of the array to store new values\n",
    "    updated = array.copy()\n",
    "    \n",
    "    # iterate only on the \"bulk\", using but not changing boundary values \n",
    "    for i in range(1, n-1):\n",
    "        for j in range(1, n-1):\n",
    "            updated[i,j] = (array[i-1,j] + array[i+1,j] + array[i,j-1] + array[i,j+1]) / 4\n",
    "            \n",
    "    return updated"
   ]
  },
  {
   "cell_type": "code",
   "execution_count": null,
   "metadata": {},
   "outputs": [],
   "source": [
    "showphi(jacobi(phi))"
   ]
  },
  {
   "cell_type": "code",
   "execution_count": null,
   "metadata": {},
   "outputs": [],
   "source": [
    "%timeit jacobi(phi)"
   ]
  },
  {
   "cell_type": "code",
   "execution_count": null,
   "metadata": {},
   "outputs": [],
   "source": [
    "phi[0:-2,1:-1] + phi[2:,1:-1]"
   ]
  },
  {
   "cell_type": "code",
   "execution_count": null,
   "metadata": {},
   "outputs": [],
   "source": [
    "def matrixjacobi(array):\n",
    "    updated = array.copy()\n",
    "    \n",
    "    updated[1:-1,1:-1] = (array[0:-2,1:-1] + array[2:,1:-1] + array[1:-1,0:-2] + array[1:-1,2:]) / 4\n",
    "    \n",
    "    return updated"
   ]
  },
  {
   "cell_type": "code",
   "execution_count": null,
   "metadata": {},
   "outputs": [],
   "source": [
    "%timeit matrixjacobi(phi)"
   ]
  },
  {
   "cell_type": "code",
   "execution_count": null,
   "metadata": {},
   "outputs": [],
   "source": [
    "def residual(array):\n",
    "    laplace = array[0:-2,1:-1] + array[2:,1:-1] + array[1:-1,0:-2] + array[1:-1,2:] - 4*array[1:-1,1:-1]\n",
    "    return np.mean(np.abs(laplace))"
   ]
  },
  {
   "cell_type": "code",
   "execution_count": null,
   "metadata": {},
   "outputs": [],
   "source": [
    "pp.figure(figsize=(12,12))\n",
    "\n",
    "phi = initphi(64)\n",
    "\n",
    "# loop from 1 to 16 (subplot indexes from one)\n",
    "for i in range(1, 1+16):\n",
    "    pp.subplot(4, 4, i)\n",
    "    showphi(phi, colorbar=False)\n",
    "        \n",
    "    for j in range(32):\n",
    "        phi = matrixjacobi(phi)\n",
    "    \n",
    "    meanres = residual(phi)\n",
    "    pp.title(f'Iteration {i*32}: {meanres:.2e}')\n",
    "    \n",
    "# save space among subplots\n",
    "pp.tight_layout()"
   ]
  }
 ],
 "metadata": {
  "kernelspec": {
   "display_name": "Python 3 (ipykernel)",
   "language": "python",
   "name": "python3"
  },
  "language_info": {
   "codemirror_mode": {
    "name": "ipython",
    "version": 3
   },
   "file_extension": ".py",
   "mimetype": "text/x-python",
   "name": "python",
   "nbconvert_exporter": "python",
   "pygments_lexer": "ipython3",
   "version": "3.10.9"
  },
  "toc": {
   "base_numbering": 1,
   "nav_menu": {},
   "number_sections": true,
   "sideBar": true,
   "skip_h1_title": false,
   "title_cell": "Table of Contents",
   "title_sidebar": "Contents",
   "toc_cell": false,
   "toc_position": {},
   "toc_section_display": true,
   "toc_window_display": false
  }
 },
 "nbformat": 4,
 "nbformat_minor": 4
}
