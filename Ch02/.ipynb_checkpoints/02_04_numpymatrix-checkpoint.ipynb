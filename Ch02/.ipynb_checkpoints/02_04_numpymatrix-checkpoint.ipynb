{
 "cells": [
  {
   "cell_type": "markdown",
   "metadata": {},
   "source": [
    "# 02_04_numpymatrix.ipynb - Linear algebra and sparse matrices with NumPy and SciPy"
   ]
  },
  {
   "cell_type": "code",
   "execution_count": 1,
   "metadata": {},
   "outputs": [],
   "source": [
    "import math\n",
    "\n",
    "import numpy as np\n",
    "import scipy.linalg as sl\n",
    "import scipy.sparse as ss\n",
    "import scipy.sparse.linalg as ssl\n",
    "import matplotlib.pyplot as pp"
   ]
  },
  {
   "cell_type": "markdown",
   "metadata": {},
   "source": [
    "#### Code from last video"
   ]
  },
  {
   "cell_type": "code",
   "execution_count": 2,
   "metadata": {},
   "outputs": [],
   "source": [
    "def initphi(n=64):\n",
    "    dx = 1/n\n",
    "    xs = np.linspace(0.5*dx, 1-0.5*dx, n)\n",
    "    \n",
    "    phi = np.zeros((n,n), 'd')\n",
    "    \n",
    "    phi[:,-1] = np.sin(2 * math.pi * xs)\n",
    "    phi[-1,:] = -np.sin(2 * math.pi * xs)\n",
    "    \n",
    "    return phi"
   ]
  },
  {
   "cell_type": "code",
   "execution_count": 3,
   "metadata": {},
   "outputs": [],
   "source": [
    "def showphi(array, colorbar=True):\n",
    "    pp.imshow(array.T, origin='lower', extent=(0,1,0,1),\n",
    "              vmin=-1, vmax=1, cmap='coolwarm')\n",
    "    \n",
    "    if colorbar:\n",
    "        pp.colorbar()"
   ]
  },
  {
   "cell_type": "markdown",
   "metadata": {},
   "source": [
    "#### Statement of the linear algebra problem"
   ]
  },
  {
   "cell_type": "markdown",
   "metadata": {},
   "source": [
    "$$A_{ijkl} y_{kl} = b_{ij} \\quad \\text{(summation implied)}$$"
   ]
  },
  {
   "cell_type": "markdown",
   "metadata": {},
   "source": [
    "$$\\biggl(\\frac{\\partial^2}{\\partial x^2} + \\frac{\\partial^2}{\\partial y^2}\\biggr) y_{kl} \\rightarrow\n",
    "\\bigl(y_{(k-1)l} + y_{(k+1)l} + y_{k(l-1)} + y_{k(l+1)} - 4y_{kl}\\bigr) / \\Delta x^2$$\n",
    "\n",
    "_In the bulk_:\n",
    "\n",
    "$$A_{ijkl} = 0 \\quad\\text{except for}\\quad A_{ij(i-1)j} = A_{ij(i+1)j} = A_{iji(j-1)} = A_{iji(j+1)} = (\\Delta x)^{-2}$$\n",
    "\n",
    "and\n",
    "\n",
    "$$A_{ijij} = -4 (\\Delta x)^{-2}$$\n",
    "\n",
    "_On the boundary_:\n",
    "\n",
    "$$A_{0j0j} = A_{(-1)j(-1)j} = A_{i0i0} = A_{i(-1)i(-1)} = 1.$$"
   ]
  },
  {
   "cell_type": "markdown",
   "metadata": {},
   "source": [
    "#### Let's go!"
   ]
  },
  {
   "cell_type": "code",
   "execution_count": 4,
   "metadata": {},
   "outputs": [],
   "source": [
    "def laplacematrix(n):\n",
    "    A = np.zeros((n,n,n,n), 'd')\n",
    "\n",
    "    dx = 1/n\n",
    "    \n",
    "    for i in range(1,n-1):\n",
    "        for j in range(1,n-1):\n",
    "            A[i,j,i-1,j] = A[i,j,i+1,j] = A[i,j,i,j-1] = A[i,j,i,j+1] = 1 / dx**2\n",
    "            A[i,j,i,j] = -4 / dx**2\n",
    "\n",
    "    for i in range(0,n):\n",
    "        A[0,i,0,i] = A[-1,i,-1,i] = A[i,0,i,0] = A[i,-1,i,-1] = 1\n",
    "        \n",
    "    return A"
   ]
  },
  {
   "cell_type": "code",
   "execution_count": 5,
   "metadata": {},
   "outputs": [],
   "source": [
    "n = 8\n",
    "A = laplacematrix(n).reshape((n*n,n*n))"
   ]
  },
  {
   "cell_type": "code",
   "execution_count": 6,
   "metadata": {},
   "outputs": [
    {
     "data": {
      "text/plain": [
       "<matplotlib.image.AxesImage at 0x12619d390>"
      ]
     },
     "execution_count": 6,
     "metadata": {},
     "output_type": "execute_result"
    },
    {
     "data": {
      "image/png": "[encoded data removed]",
      "text/plain": [
       "<Figure size 480x480 with 1 Axes>"
      ]
     },
     "metadata": {},
     "output_type": "display_data"
    }
   ],
   "source": [
    "pp.matshow(A)"
   ]
  },
  {
   "cell_type": "code",
   "execution_count": 7,
   "metadata": {},
   "outputs": [],
   "source": [
    "n = 64\n",
    "A = laplacematrix(n).reshape((n*n,n*n))"
   ]
  },
  {
   "cell_type": "code",
   "execution_count": 8,
   "metadata": {},
   "outputs": [],
   "source": [
    "b = initphi(n).reshape((n*n),)"
   ]
  },
  {
   "cell_type": "code",
   "execution_count": 9,
   "metadata": {},
   "outputs": [
    {
     "name": "stdout",
     "output_type": "stream",
     "text": [
      "CPU times: user 2.83 s, sys: 49 ms, total: 2.88 s\n",
      "Wall time: 502 ms\n"
     ]
    }
   ],
   "source": [
    "%%time\n",
    "\n",
    "ysol = np.linalg.solve(A, b)"
   ]
  },
  {
   "cell_type": "code",
   "execution_count": null,
   "metadata": {},
   "outputs": [],
   "source": [
    "showphi(ysol.reshape((n,n)))"
   ]
  },
  {
   "cell_type": "code",
   "execution_count": null,
   "metadata": {},
   "outputs": [],
   "source": [
    "showphi( (np.dot(A, ysol) - b).reshape((n,n)) )"
   ]
  },
  {
   "cell_type": "code",
   "execution_count": null,
   "metadata": {},
   "outputs": [],
   "source": [
    "A @ ysol - b"
   ]
  },
  {
   "cell_type": "code",
   "execution_count": null,
   "metadata": {},
   "outputs": [],
   "source": [
    "np.max(np.abs(A @ ysol - b))"
   ]
  },
  {
   "cell_type": "code",
   "execution_count": null,
   "metadata": {
    "scrolled": true
   },
   "outputs": [],
   "source": [
    "help(sl)"
   ]
  },
  {
   "cell_type": "code",
   "execution_count": null,
   "metadata": {},
   "outputs": [],
   "source": [
    "A_s = ss.csc_matrix(A)"
   ]
  },
  {
   "cell_type": "code",
   "execution_count": null,
   "metadata": {},
   "outputs": [],
   "source": [
    "A_s"
   ]
  },
  {
   "cell_type": "code",
   "execution_count": null,
   "metadata": {},
   "outputs": [],
   "source": [
    "b_s = ss.csc_matrix(b)"
   ]
  },
  {
   "cell_type": "code",
   "execution_count": null,
   "metadata": {},
   "outputs": [],
   "source": [
    "%time\n",
    "ysol_s = ss.linalg.spsolve(A_s, b_s)"
   ]
  },
  {
   "cell_type": "code",
   "execution_count": null,
   "metadata": {},
   "outputs": [],
   "source": [
    "b_s = ss.csc_matrix(b.reshape((n*n,1)))"
   ]
  },
  {
   "cell_type": "code",
   "execution_count": null,
   "metadata": {},
   "outputs": [],
   "source": [
    "%time\n",
    "ysol_s = ssl.spsolve(A_s, b_s)"
   ]
  },
  {
   "cell_type": "code",
   "execution_count": null,
   "metadata": {},
   "outputs": [],
   "source": [
    "showphi(ysol_s.reshape((n,n)))"
   ]
  }
 ],
 "metadata": {
  "kernelspec": {
   "display_name": "Python 3 (ipykernel)",
   "language": "python",
   "name": "python3"
  },
  "language_info": {
   "codemirror_mode": {
    "name": "ipython",
    "version": 3
   },
   "file_extension": ".py",
   "mimetype": "text/x-python",
   "name": "python",
   "nbconvert_exporter": "python",
   "pygments_lexer": "ipython3",
   "version": "3.10.9"
  },
  "toc": {
   "base_numbering": 1,
   "nav_menu": {},
   "number_sections": true,
   "sideBar": true,
   "skip_h1_title": false,
   "title_cell": "Table of Contents",
   "title_sidebar": "Contents",
   "toc_cell": false,
   "toc_position": {},
   "toc_section_display": true,
   "toc_window_display": false
  }
 },
 "nbformat": 4,
 "nbformat_minor": 4
}
