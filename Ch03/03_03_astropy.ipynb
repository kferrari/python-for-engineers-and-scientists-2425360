{
 "cells": [
  {
   "cell_type": "markdown",
   "metadata": {},
   "source": [
    "# 03_03_astropy.ipynb - Units, constants, timescales and more with Astropy"
   ]
  },
  {
   "cell_type": "code",
   "execution_count": 1,
   "metadata": {},
   "outputs": [],
   "source": [
    "import math\n",
    "import datetime"
   ]
  },
  {
   "cell_type": "code",
   "execution_count": 2,
   "metadata": {},
   "outputs": [],
   "source": [
    "import numpy as np\n",
    "import matplotlib.pyplot as pp\n",
    "\n",
    "import astropy\n",
    "import astropy.units as au\n",
    "import astropy.constants as ac\n",
    "import astropy.time as at\n",
    "import astropy.coordinates as ao"
   ]
  },
  {
   "cell_type": "code",
   "execution_count": 3,
   "metadata": {},
   "outputs": [],
   "source": [
    "distance = 100 * au.m"
   ]
  },
  {
   "cell_type": "code",
   "execution_count": 4,
   "metadata": {},
   "outputs": [
    {
     "data": {
      "text/plain": [
       "astropy.units.quantity.Quantity"
      ]
     },
     "execution_count": 4,
     "metadata": {},
     "output_type": "execute_result"
    }
   ],
   "source": [
    "type(distance)"
   ]
  },
  {
   "cell_type": "code",
   "execution_count": 42,
   "metadata": {},
   "outputs": [
    {
     "data": {
      "text/latex": [
       "$300 \\; \\mathrm{m}$"
      ],
      "text/plain": [
       "<Quantity 300. m>"
      ]
     },
     "execution_count": 42,
     "metadata": {},
     "output_type": "execute_result"
    }
   ],
   "source": [
    "distance"
   ]
  },
  {
   "cell_type": "code",
   "execution_count": 6,
   "metadata": {},
   "outputs": [
    {
     "data": {
      "text/plain": [
       "(100.0, Unit(\"m\"))"
      ]
     },
     "execution_count": 6,
     "metadata": {},
     "output_type": "execute_result"
    }
   ],
   "source": [
    "distance.value, distance.unit"
   ]
  },
  {
   "cell_type": "code",
   "execution_count": 7,
   "metadata": {},
   "outputs": [],
   "source": [
    "speed = distance / (9.58 * au.s)"
   ]
  },
  {
   "cell_type": "code",
   "execution_count": 8,
   "metadata": {},
   "outputs": [
    {
     "data": {
      "text/latex": [
       "$10.438413 \\; \\mathrm{\\frac{m}{s}}$"
      ],
      "text/plain": [
       "<Quantity 10.43841336 m / s>"
      ]
     },
     "execution_count": 8,
     "metadata": {},
     "output_type": "execute_result"
    }
   ],
   "source": [
    "speed"
   ]
  },
  {
   "cell_type": "code",
   "execution_count": 9,
   "metadata": {},
   "outputs": [
    {
     "data": {
      "text/latex": [
       "$37.578288 \\; \\mathrm{\\frac{km}{h}}$"
      ],
      "text/plain": [
       "<Quantity 37.5782881 km / h>"
      ]
     },
     "execution_count": 9,
     "metadata": {},
     "output_type": "execute_result"
    }
   ],
   "source": [
    "speed.to('km/h')"
   ]
  },
  {
   "cell_type": "code",
   "execution_count": 10,
   "metadata": {},
   "outputs": [
    {
     "data": {
      "text/latex": [
       "$10.438413 \\; \\mathrm{\\frac{m}{s}}$"
      ],
      "text/plain": [
       "<Quantity 10.43841336 m / s>"
      ]
     },
     "execution_count": 10,
     "metadata": {},
     "output_type": "execute_result"
    }
   ],
   "source": [
    "speed.si"
   ]
  },
  {
   "cell_type": "code",
   "execution_count": 11,
   "metadata": {},
   "outputs": [
    {
     "data": {
      "text/latex": [
       "$1043.8413 \\; \\mathrm{\\frac{cm}{s}}$"
      ],
      "text/plain": [
       "<Quantity 1043.84133612 cm / s>"
      ]
     },
     "execution_count": 11,
     "metadata": {},
     "output_type": "execute_result"
    }
   ],
   "source": [
    "speed.cgs"
   ]
  },
  {
   "cell_type": "code",
   "execution_count": 12,
   "metadata": {},
   "outputs": [
    {
     "data": {
      "text/latex": [
       "$[0,~10,~20,~30,~40,~50,~60,~70,~80,~90,~100] \\; \\mathrm{km}$"
      ],
      "text/plain": [
       "<Quantity [  0.,  10.,  20.,  30.,  40.,  50.,  60.,  70.,  80.,  90.,\n",
       "           100.] km>"
      ]
     },
     "execution_count": 12,
     "metadata": {},
     "output_type": "execute_result"
    }
   ],
   "source": [
    "np.linspace(0, 100, 11)  * au.km"
   ]
  },
  {
   "cell_type": "code",
   "execution_count": 13,
   "metadata": {},
   "outputs": [
    {
     "data": {
      "text/latex": [
       "$2.9979246 \\times 10^{8} \\; \\mathrm{\\frac{m}{s}}$"
      ],
      "text/plain": [
       "<<class 'astropy.constants.codata2018.CODATA2018'> name='Speed of light in vacuum' value=299792458.0 uncertainty=0.0 unit='m / s' reference='CODATA 2018'>"
      ]
     },
     "execution_count": 13,
     "metadata": {},
     "output_type": "execute_result"
    }
   ],
   "source": [
    "ac.c"
   ]
  },
  {
   "cell_type": "code",
   "execution_count": 14,
   "metadata": {},
   "outputs": [
    {
     "name": "stdout",
     "output_type": "stream",
     "text": [
      "  Name   = Speed of light in vacuum\n",
      "  Value  = 299792458.0\n",
      "  Uncertainty  = 0.0\n",
      "  Unit  = m / s\n",
      "  Reference = CODATA 2018\n"
     ]
    }
   ],
   "source": [
    "print(ac.c)"
   ]
  },
  {
   "cell_type": "code",
   "execution_count": 15,
   "metadata": {},
   "outputs": [
    {
     "data": {
      "text/plain": [
       "('Speed of light in vacuum', 0.0, 'CODATA 2018')"
      ]
     },
     "execution_count": 15,
     "metadata": {},
     "output_type": "execute_result"
    }
   ],
   "source": [
    "ac.c.name, ac.c.uncertainty, ac.c.reference"
   ]
  },
  {
   "cell_type": "code",
   "execution_count": 16,
   "metadata": {},
   "outputs": [
    {
     "data": {
      "text/latex": [
       "$1.616255 \\times 10^{-35} \\; \\mathrm{\\frac{s\\,J^{1/2}}{kg^{1/2}}}$"
      ],
      "text/plain": [
       "<Quantity 1.61625502e-35 J(1/2) s / kg(1/2)>"
      ]
     },
     "execution_count": 16,
     "metadata": {},
     "output_type": "execute_result"
    }
   ],
   "source": [
    "np.sqrt(ac.hbar * ac.G / ac.c**3)"
   ]
  },
  {
   "cell_type": "code",
   "execution_count": 17,
   "metadata": {},
   "outputs": [
    {
     "data": {
      "text/latex": [
       "$1.616255 \\times 10^{-35} \\; \\mathrm{m}$"
      ],
      "text/plain": [
       "<Quantity 1.61625502e-35 m>"
      ]
     },
     "execution_count": 17,
     "metadata": {},
     "output_type": "execute_result"
    }
   ],
   "source": [
    "_.si"
   ]
  },
  {
   "cell_type": "code",
   "execution_count": 18,
   "metadata": {},
   "outputs": [
    {
     "data": {
      "text/plain": [
       "<Time object: scale='utc' format='isot' value=2001-01-01T12:30:00.000>"
      ]
     },
     "execution_count": 18,
     "metadata": {},
     "output_type": "execute_result"
    }
   ],
   "source": [
    "at.Time('2001-01-01T12:30:00')"
   ]
  },
  {
   "cell_type": "code",
   "execution_count": 19,
   "metadata": {},
   "outputs": [
    {
     "data": {
      "text/plain": [
       "<Time object: scale='utc' format='datetime' value=2001-01-01 12:30:00>"
      ]
     },
     "execution_count": 19,
     "metadata": {},
     "output_type": "execute_result"
    }
   ],
   "source": [
    "at.Time(datetime.datetime(year=2001, month=1, day=1, hour=12, minute=30))"
   ]
  },
  {
   "cell_type": "code",
   "execution_count": 20,
   "metadata": {},
   "outputs": [
    {
     "data": {
      "text/plain": [
       "'mjd'"
      ]
     },
     "execution_count": 20,
     "metadata": {},
     "output_type": "execute_result"
    }
   ],
   "source": [
    "at.Time(51910.52, format='mjd').format"
   ]
  },
  {
   "cell_type": "code",
   "execution_count": 21,
   "metadata": {},
   "outputs": [
    {
     "data": {
      "text/plain": [
       "<Time object: scale='tai' format='gps' value=662387341.0>"
      ]
     },
     "execution_count": 21,
     "metadata": {},
     "output_type": "execute_result"
    }
   ],
   "source": [
    "at.Time(662387341, format='gps')"
   ]
  },
  {
   "cell_type": "code",
   "execution_count": 22,
   "metadata": {},
   "outputs": [
    {
     "data": {
      "text/plain": [
       "'2001-01-01 12:28:48.000'"
      ]
     },
     "execution_count": 22,
     "metadata": {},
     "output_type": "execute_result"
    }
   ],
   "source": [
    "at.Time(51910.52, format='mjd').iso"
   ]
  },
  {
   "cell_type": "code",
   "execution_count": 23,
   "metadata": {},
   "outputs": [
    {
     "data": {
      "text/plain": [
       "<Time object: scale='utc' format='iso' value=2001-01-01 12:28:48.000>"
      ]
     },
     "execution_count": 23,
     "metadata": {},
     "output_type": "execute_result"
    }
   ],
   "source": [
    "at.Time(at.Time(51910.52, format='mjd'), format='iso')"
   ]
  },
  {
   "cell_type": "code",
   "execution_count": 24,
   "metadata": {},
   "outputs": [],
   "source": [
    "t0 = at.Time('2021-07-01T00:00:00', scale='utc')"
   ]
  },
  {
   "cell_type": "code",
   "execution_count": 25,
   "metadata": {},
   "outputs": [
    {
     "data": {
      "text/plain": [
       "<Time object: scale='tai' format='isot' value=2021-07-01T00:00:37.000>"
      ]
     },
     "execution_count": 25,
     "metadata": {},
     "output_type": "execute_result"
    }
   ],
   "source": [
    "t0.tai"
   ]
  },
  {
   "cell_type": "code",
   "execution_count": 26,
   "metadata": {},
   "outputs": [
    {
     "data": {
      "text/plain": [
       "<Time object: scale='ut1' format='isot' value=2021-06-30T23:59:59.833>"
      ]
     },
     "execution_count": 26,
     "metadata": {},
     "output_type": "execute_result"
    }
   ],
   "source": [
    "t0.ut1"
   ]
  },
  {
   "cell_type": "code",
   "execution_count": 27,
   "metadata": {},
   "outputs": [
    {
     "data": {
      "text/plain": [
       "<SkyCoord (GCRS: obstime=2021-07-01T00:00:00.000, obsgeoloc=(0., 0., 0.) m, obsgeovel=(0., 0., 0.) m / s): (ra, dec, distance) in (deg, deg, AU)\n",
       "    (334.09724485, -11.80485887, 4.35618272)>"
      ]
     },
     "execution_count": 27,
     "metadata": {},
     "output_type": "execute_result"
    }
   ],
   "source": [
    "ao.get_body('jupiter', t0)"
   ]
  },
  {
   "cell_type": "code",
   "execution_count": 28,
   "metadata": {},
   "outputs": [
    {
     "data": {
      "text/plain": [
       "<CartesianRepresentation (x, y, z) in AU\n",
       "    (3.98876147, -2.7794672, -1.28843931)>"
      ]
     },
     "execution_count": 28,
     "metadata": {},
     "output_type": "execute_result"
    }
   ],
   "source": [
    "ao.get_body_barycentric('jupiter', t0)"
   ]
  },
  {
   "cell_type": "code",
   "execution_count": 29,
   "metadata": {},
   "outputs": [
    {
     "data": {
      "text/plain": [
       "(<CartesianRepresentation (x, y, z) in AU\n",
       "     (3.98876147, -2.7794672, -1.28843931)>,\n",
       " <CartesianRepresentation (x, y, z) in AU / d\n",
       "     (0.0045012, 0.00586849, 0.00240598)>)"
      ]
     },
     "execution_count": 29,
     "metadata": {},
     "output_type": "execute_result"
    }
   ],
   "source": [
    "ao.get_body_barycentric_posvel('jupiter', t0)"
   ]
  },
  {
   "cell_type": "code",
   "execution_count": 30,
   "metadata": {},
   "outputs": [
    {
     "name": "stderr",
     "output_type": "stream",
     "text": [
      "/opt/homebrew/anaconda3/lib/python3.10/site-packages/erfa/core.py:154: ErfaWarning: ERFA function \"dtf2d\" yielded 1 of \"dubious year (Note 6)\"\n",
      "  warnings.warn('ERFA function \"{}\" yielded {}'.format(func_name, wmsg),\n"
     ]
    }
   ],
   "source": [
    "ts = at.Time(np.linspace(at.Time('2021-07-01').mjd, at.Time('2031-07-01').mjd, 100),\n",
    "             format='mjd')"
   ]
  },
  {
   "cell_type": "code",
   "execution_count": 31,
   "metadata": {},
   "outputs": [
    {
     "name": "stderr",
     "output_type": "stream",
     "text": [
      "/opt/homebrew/anaconda3/lib/python3.10/site-packages/erfa/core.py:154: ErfaWarning: ERFA function \"utctai\" yielded 45 of \"dubious year (Note 3)\"\n",
      "  warnings.warn('ERFA function \"{}\" yielded {}'.format(func_name, wmsg),\n",
      "/opt/homebrew/anaconda3/lib/python3.10/site-packages/erfa/core.py:154: ErfaWarning: ERFA function \"taiutc\" yielded 45 of \"dubious year (Note 4)\"\n",
      "  warnings.warn('ERFA function \"{}\" yielded {}'.format(func_name, wmsg),\n"
     ]
    }
   ],
   "source": [
    "jposvel = ao.get_body_barycentric_posvel('jupiter', ts)"
   ]
  },
  {
   "cell_type": "code",
   "execution_count": 32,
   "metadata": {},
   "outputs": [
    {
     "data": {
      "text/plain": [
       "<CartesianRepresentation (x, y, z) in AU\n",
       "    [( 3.98876147, -2.7794672 , -1.28843931),\n",
       "     ( 4.14848841, -2.55871375, -1.19770036),\n",
       "     ( 4.29505389, -2.32985076, -1.1031651 ),\n",
       "     ( 4.4279155 , -2.09356074, -1.005113  ),\n",
       "     ( 4.54657243, -1.85055814, -0.90383811),\n",
       "     ( 4.65056741, -1.60158967, -0.79964936),\n",
       "     ( 4.73949076, -1.34743191, -0.69286961),\n",
       "     ( 4.81298355, -1.08888991, -0.58383516),\n",
       "     ( 4.87074347, -0.82679272, -0.47289413),\n",
       "     ( 4.9125254 , -0.56198751, -0.36040369),\n",
       "     ( 4.93814266, -0.29533632, -0.24672888),\n",
       "     ( 4.94746688, -0.02771149, -0.13224042),\n",
       "     ( 4.94042833,  0.24000547, -0.01731437),\n",
       "     ( 4.91701933,  0.50692813,  0.09766951),\n",
       "     ( 4.87729438,  0.77216956,  0.21232975),\n",
       "     ( 4.82137181,  1.03484746,  0.32628514),\n",
       "     ( 4.74943102,  1.29408988,  0.43915755),\n",
       "     ( 4.66171113,  1.54903713,  0.55057264),\n",
       "     ( 4.55851037,  1.79884611,  0.66016186),\n",
       "     ( 4.44018479,  2.04269262,  0.76756331),\n",
       "     ( 4.30714936,  2.27977651,  0.87242387),\n",
       "     ( 4.15987398,  2.50932733,  0.97440187),\n",
       "     ( 3.99888052,  2.7306075 ,  1.07316837),\n",
       "     ( 3.82473777,  2.94291619,  1.1684092 ),\n",
       "     ( 3.63805752,  3.14558903,  1.25982477),\n",
       "     ( 3.43949356,  3.33800068,  1.34713113),\n",
       "     ( 3.22973841,  3.5195668 ,  1.43006099),\n",
       "     ( 3.00952189,  3.68974747,  1.50836501),\n",
       "     ( 2.77960495,  3.84805071,  1.5818138 ),\n",
       "     ( 2.54077497,  3.9940323 ,  1.65019777),\n",
       "     ( 2.29384146,  4.12729705,  1.71332795),\n",
       "     ( 2.03963202,  4.2474972 ,  1.77103521),\n",
       "     ( 1.77899144,  4.35433391,  1.82317088),\n",
       "     ( 1.51277644,  4.44755872,  1.86960761),\n",
       "     ( 1.24185206,  4.52697343,  1.9102393 ),\n",
       "     ( 0.96708577,  4.59243029,  1.94498155),\n",
       "     ( 0.68934367,  4.6438282 ,  1.97376998),\n",
       "     ( 0.40948933,  4.68111201,  1.99656   ),\n",
       "     ( 0.1283812 ,  4.70427103,  2.01332613),\n",
       "     (-0.15312804,  4.71333964,  2.02406229),\n",
       "     (-0.43419699,  4.70839789,  2.02878231),\n",
       "     (-0.71399893,  4.6895685 ,  2.02751867),\n",
       "     (-0.99172524,  4.65701542,  2.02032208),\n",
       "     (-1.2665876 ,  4.61093926,  2.00725941),\n",
       "     (-1.53781698,  4.55157641,  1.98841326),\n",
       "     (-1.80466622,  4.47919796,  1.96388163),\n",
       "     (-2.06641076,  4.39410851,  1.93377731),\n",
       "     (-2.32235237,  4.29664525,  1.89822789),\n",
       "     (-2.57182057,  4.18717357,  1.8573737 ),\n",
       "     (-2.81417253,  4.06608563,  1.81136726),\n",
       "     (-3.04879363,  3.93379752,  1.76037204),\n",
       "     (-3.27509592,  3.79074936,  1.7045623 ),\n",
       "     (-3.49252141,  3.63740507,  1.64412331),\n",
       "     (-3.70054314,  3.47424953,  1.57925005),\n",
       "     (-3.89866711,  3.30178685,  1.51014666),\n",
       "     (-4.08643223,  3.12053564,  1.43702427),\n",
       "     (-4.26340748,  2.93102821,  1.36010055),\n",
       "     (-4.42919221,  2.73380984,  1.27959943),\n",
       "     (-4.583415  ,  2.52943874,  1.19575103),\n",
       "     (-4.72573663,  2.31848597,  1.10879192),\n",
       "     (-4.85585052,  2.10153178,  1.01896339),\n",
       "     (-4.97348228,  1.87916451,  0.92651104),\n",
       "     (-5.07838912,  1.65197765,  0.83168341),\n",
       "     (-5.17035717,  1.42057042,  0.73473206),\n",
       "     (-5.24920355,  1.18554787,  0.63591186),\n",
       "     (-5.31477618,  0.94751906,  0.5354801 ),\n",
       "     (-5.36695524,  0.70709613,  0.43369631),\n",
       "     (-5.40565229,  0.4648904 ,  0.33082041),\n",
       "     (-5.43080741,  0.22151252,  0.22711271),\n",
       "     (-5.44238918, -0.02242795,  0.12283371),\n",
       "     (-5.44039321, -0.26632167,  0.01824439),\n",
       "     (-5.42484528, -0.50955932, -0.0863934 ),\n",
       "     (-5.39580144, -0.75153467, -0.19081844),\n",
       "     (-5.35334808, -0.9916455 , -0.29477041),\n",
       "     (-5.29760085, -1.22929681, -0.3979914 ),\n",
       "     (-5.22870156, -1.46389991, -0.50022574),\n",
       "     (-5.14681952, -1.69487217, -0.6012196 ),\n",
       "     (-5.05215089, -1.92163764, -0.70072145),\n",
       "     (-4.94492067, -2.14362734, -0.79848186),\n",
       "     (-4.82538227, -2.36028281, -0.89425523),\n",
       "     (-4.69381545, -2.57105603, -0.9877998 ),\n",
       "     (-4.55052615, -2.77541052, -1.07887817),\n",
       "     (-4.39584479, -2.97282033, -1.16725696),\n",
       "     (-4.23012935, -3.16277005, -1.25270654),\n",
       "     (-4.05376524, -3.34475776, -1.33500241),\n",
       "     (-3.86716557, -3.51829623, -1.4139256 ),\n",
       "     (-3.67076953, -3.68291643, -1.48926437),\n",
       "     (-3.46503909, -3.83816653, -1.56081386),\n",
       "     (-3.25045989, -3.98361167, -1.6283759 ),\n",
       "     (-3.0275407 , -4.11883413, -1.69175916),\n",
       "     (-2.79681587, -4.24343407, -1.75077917),\n",
       "     (-2.55884474, -4.35703339, -1.80526021),\n",
       "     (-2.31420985, -4.45927648, -1.8550356 ),\n",
       "     (-2.06351587, -4.54983231, -1.89994876),\n",
       "     (-1.80738709, -4.62839364, -1.93985293),\n",
       "     (-1.54646941, -4.69467761, -1.97461116),\n",
       "     (-1.28142927, -4.74842828, -2.00409761),\n",
       "     (-1.01295354, -4.78941795, -2.02819787),\n",
       "     (-0.74174728, -4.81745074, -2.0468108 ),\n",
       "     (-0.46853013, -4.83236193, -2.0598483 )]>"
      ]
     },
     "execution_count": 32,
     "metadata": {},
     "output_type": "execute_result"
    }
   ],
   "source": [
    "jposvel[0]"
   ]
  },
  {
   "cell_type": "code",
   "execution_count": 33,
   "metadata": {},
   "outputs": [
    {
     "data": {
      "text/plain": [
       "['T',\n",
       " '_APPLICABLE_FUNCTIONS',\n",
       " '_METHOD_FUNCTIONS',\n",
       " '__abstractmethods__',\n",
       " '__add__',\n",
       " '__array_function__',\n",
       " '__array_priority__',\n",
       " '__bool__',\n",
       " '__class__',\n",
       " '__delattr__',\n",
       " '__dict__',\n",
       " '__dir__',\n",
       " '__doc__',\n",
       " '__eq__',\n",
       " '__format__',\n",
       " '__ge__',\n",
       " '__getattribute__',\n",
       " '__getitem__',\n",
       " '__gt__',\n",
       " '__hash__',\n",
       " '__init__',\n",
       " '__init_subclass__',\n",
       " '__iter__',\n",
       " '__le__',\n",
       " '__len__',\n",
       " '__lt__',\n",
       " '__module__',\n",
       " '__mul__',\n",
       " '__ne__',\n",
       " '__neg__',\n",
       " '__new__',\n",
       " '__pos__',\n",
       " '__radd__',\n",
       " '__reduce__',\n",
       " '__reduce_ex__',\n",
       " '__repr__',\n",
       " '__rmul__',\n",
       " '__rsub__',\n",
       " '__setattr__',\n",
       " '__setitem__',\n",
       " '__sizeof__',\n",
       " '__slotnames__',\n",
       " '__str__',\n",
       " '__sub__',\n",
       " '__subclasshook__',\n",
       " '__truediv__',\n",
       " '__weakref__',\n",
       " '_abc_impl',\n",
       " '_apply',\n",
       " '_combine_operation',\n",
       " '_compatible_differentials',\n",
       " '_differentials',\n",
       " '_raise_if_has_differentials',\n",
       " '_re_represent_differentials',\n",
       " '_scale_operation',\n",
       " '_units',\n",
       " '_unitstr',\n",
       " '_validate_differentials',\n",
       " '_values',\n",
       " '_x',\n",
       " '_xyz',\n",
       " '_xyz_axis',\n",
       " '_y',\n",
       " '_z',\n",
       " 'attr_classes',\n",
       " 'components',\n",
       " 'copy',\n",
       " 'cross',\n",
       " 'diagonal',\n",
       " 'differentials',\n",
       " 'dot',\n",
       " 'flatten',\n",
       " 'from_cartesian',\n",
       " 'from_representation',\n",
       " 'get_name',\n",
       " 'get_xyz',\n",
       " 'info',\n",
       " 'isscalar',\n",
       " 'mean',\n",
       " 'ndim',\n",
       " 'norm',\n",
       " 'ravel',\n",
       " 'represent_as',\n",
       " 'reshape',\n",
       " 'scale_factors',\n",
       " 'shape',\n",
       " 'size',\n",
       " 'squeeze',\n",
       " 'sum',\n",
       " 'swapaxes',\n",
       " 'take',\n",
       " 'to_cartesian',\n",
       " 'transform',\n",
       " 'transpose',\n",
       " 'unit_vectors',\n",
       " 'with_differentials',\n",
       " 'without_differentials',\n",
       " 'x',\n",
       " 'xyz',\n",
       " 'y',\n",
       " 'z']"
      ]
     },
     "execution_count": 33,
     "metadata": {},
     "output_type": "execute_result"
    }
   ],
   "source": [
    "dir(jposvel[0])"
   ]
  },
  {
   "cell_type": "code",
   "execution_count": 34,
   "metadata": {},
   "outputs": [
    {
     "data": {
      "text/latex": [
       "$[[3.9887615,~4.1484884,~4.2950539,~\\dots,~-1.0129535,~-0.74174728,~-0.46853013],~\n",
       " [-2.7794672,~-2.5587138,~-2.3298508,~\\dots,~-4.7894179,~-4.8174507,~-4.8323619],~\n",
       " [-1.2884393,~-1.1977004,~-1.1031651,~\\dots,~-2.0281979,~-2.0468108,~-2.0598483]] \\; \\mathrm{AU}$"
      ],
      "text/plain": [
       "<Quantity [[ 3.98876147,  4.14848841,  4.29505389,  4.4279155 ,\n",
       "             4.54657243,  4.65056741,  4.73949076,  4.81298355,\n",
       "             4.87074347,  4.9125254 ,  4.93814266,  4.94746688,\n",
       "             4.94042833,  4.91701933,  4.87729438,  4.82137181,\n",
       "             4.74943102,  4.66171113,  4.55851037,  4.44018479,\n",
       "             4.30714936,  4.15987398,  3.99888052,  3.82473777,\n",
       "             3.63805752,  3.43949356,  3.22973841,  3.00952189,\n",
       "             2.77960495,  2.54077497,  2.29384146,  2.03963202,\n",
       "             1.77899144,  1.51277644,  1.24185206,  0.96708577,\n",
       "             0.68934367,  0.40948933,  0.1283812 , -0.15312804,\n",
       "            -0.43419699, -0.71399893, -0.99172524, -1.2665876 ,\n",
       "            -1.53781698, -1.80466622, -2.06641076, -2.32235237,\n",
       "            -2.57182057, -2.81417253, -3.04879363, -3.27509592,\n",
       "            -3.49252141, -3.70054314, -3.89866711, -4.08643223,\n",
       "            -4.26340748, -4.42919221, -4.583415  , -4.72573663,\n",
       "            -4.85585052, -4.97348228, -5.07838912, -5.17035717,\n",
       "            -5.24920355, -5.31477618, -5.36695524, -5.40565229,\n",
       "            -5.43080741, -5.44238918, -5.44039321, -5.42484528,\n",
       "            -5.39580144, -5.35334808, -5.29760085, -5.22870156,\n",
       "            -5.14681952, -5.05215089, -4.94492067, -4.82538227,\n",
       "            -4.69381545, -4.55052615, -4.39584479, -4.23012935,\n",
       "            -4.05376524, -3.86716557, -3.67076953, -3.46503909,\n",
       "            -3.25045989, -3.0275407 , -2.79681587, -2.55884474,\n",
       "            -2.31420985, -2.06351587, -1.80738709, -1.54646941,\n",
       "            -1.28142927, -1.01295354, -0.74174728, -0.46853013],\n",
       "           [-2.7794672 , -2.55871375, -2.32985076, -2.09356074,\n",
       "            -1.85055814, -1.60158967, -1.34743191, -1.08888991,\n",
       "            -0.82679272, -0.56198751, -0.29533632, -0.02771149,\n",
       "             0.24000547,  0.50692813,  0.77216956,  1.03484746,\n",
       "             1.29408988,  1.54903713,  1.79884611,  2.04269262,\n",
       "             2.27977651,  2.50932733,  2.7306075 ,  2.94291619,\n",
       "             3.14558903,  3.33800068,  3.5195668 ,  3.68974747,\n",
       "             3.84805071,  3.9940323 ,  4.12729705,  4.2474972 ,\n",
       "             4.35433391,  4.44755872,  4.52697343,  4.59243029,\n",
       "             4.6438282 ,  4.68111201,  4.70427103,  4.71333964,\n",
       "             4.70839789,  4.6895685 ,  4.65701542,  4.61093926,\n",
       "             4.55157641,  4.47919796,  4.39410851,  4.29664525,\n",
       "             4.18717357,  4.06608563,  3.93379752,  3.79074936,\n",
       "             3.63740507,  3.47424953,  3.30178685,  3.12053564,\n",
       "             2.93102821,  2.73380984,  2.52943874,  2.31848597,\n",
       "             2.10153178,  1.87916451,  1.65197765,  1.42057042,\n",
       "             1.18554787,  0.94751906,  0.70709613,  0.4648904 ,\n",
       "             0.22151252, -0.02242795, -0.26632167, -0.50955932,\n",
       "            -0.75153467, -0.9916455 , -1.22929681, -1.46389991,\n",
       "            -1.69487217, -1.92163764, -2.14362734, -2.36028281,\n",
       "            -2.57105603, -2.77541052, -2.97282033, -3.16277005,\n",
       "            -3.34475776, -3.51829623, -3.68291643, -3.83816653,\n",
       "            -3.98361167, -4.11883413, -4.24343407, -4.35703339,\n",
       "            -4.45927648, -4.54983231, -4.62839364, -4.69467761,\n",
       "            -4.74842828, -4.78941795, -4.81745074, -4.83236193],\n",
       "           [-1.28843931, -1.19770036, -1.1031651 , -1.005113  ,\n",
       "            -0.90383811, -0.79964936, -0.69286961, -0.58383516,\n",
       "            -0.47289413, -0.36040369, -0.24672888, -0.13224042,\n",
       "            -0.01731437,  0.09766951,  0.21232975,  0.32628514,\n",
       "             0.43915755,  0.55057264,  0.66016186,  0.76756331,\n",
       "             0.87242387,  0.97440187,  1.07316837,  1.1684092 ,\n",
       "             1.25982477,  1.34713113,  1.43006099,  1.50836501,\n",
       "             1.5818138 ,  1.65019777,  1.71332795,  1.77103521,\n",
       "             1.82317088,  1.86960761,  1.9102393 ,  1.94498155,\n",
       "             1.97376998,  1.99656   ,  2.01332613,  2.02406229,\n",
       "             2.02878231,  2.02751867,  2.02032208,  2.00725941,\n",
       "             1.98841326,  1.96388163,  1.93377731,  1.89822789,\n",
       "             1.8573737 ,  1.81136726,  1.76037204,  1.7045623 ,\n",
       "             1.64412331,  1.57925005,  1.51014666,  1.43702427,\n",
       "             1.36010055,  1.27959943,  1.19575103,  1.10879192,\n",
       "             1.01896339,  0.92651104,  0.83168341,  0.73473206,\n",
       "             0.63591186,  0.5354801 ,  0.43369631,  0.33082041,\n",
       "             0.22711271,  0.12283371,  0.01824439, -0.0863934 ,\n",
       "            -0.19081844, -0.29477041, -0.3979914 , -0.50022574,\n",
       "            -0.6012196 , -0.70072145, -0.79848186, -0.89425523,\n",
       "            -0.9877998 , -1.07887817, -1.16725696, -1.25270654,\n",
       "            -1.33500241, -1.4139256 , -1.48926437, -1.56081386,\n",
       "            -1.6283759 , -1.69175916, -1.75077917, -1.80526021,\n",
       "            -1.8550356 , -1.89994876, -1.93985293, -1.97461116,\n",
       "            -2.00409761, -2.02819787, -2.0468108 , -2.0598483 ]] AU>"
      ]
     },
     "execution_count": 34,
     "metadata": {},
     "output_type": "execute_result"
    }
   ],
   "source": [
    "jposvel[0].xyz"
   ]
  },
  {
   "cell_type": "code",
   "execution_count": 35,
   "metadata": {},
   "outputs": [
    {
     "data": {
      "text/plain": [
       "(3, 100)"
      ]
     },
     "execution_count": 35,
     "metadata": {},
     "output_type": "execute_result"
    }
   ],
   "source": [
    "jposvel[0].xyz.shape"
   ]
  },
  {
   "cell_type": "code",
   "execution_count": 36,
   "metadata": {},
   "outputs": [
    {
     "data": {
      "text/plain": [
       "array([[ 3.98876147,  4.14848841,  4.29505389,  4.4279155 ,  4.54657243,\n",
       "         4.65056741,  4.73949076,  4.81298355,  4.87074347,  4.9125254 ,\n",
       "         4.93814266,  4.94746688,  4.94042833,  4.91701933,  4.87729438,\n",
       "         4.82137181,  4.74943102,  4.66171113,  4.55851037,  4.44018479,\n",
       "         4.30714936,  4.15987398,  3.99888052,  3.82473777,  3.63805752,\n",
       "         3.43949356,  3.22973841,  3.00952189,  2.77960495,  2.54077497,\n",
       "         2.29384146,  2.03963202,  1.77899144,  1.51277644,  1.24185206,\n",
       "         0.96708577,  0.68934367,  0.40948933,  0.1283812 , -0.15312804,\n",
       "        -0.43419699, -0.71399893, -0.99172524, -1.2665876 , -1.53781698,\n",
       "        -1.80466622, -2.06641076, -2.32235237, -2.57182057, -2.81417253,\n",
       "        -3.04879363, -3.27509592, -3.49252141, -3.70054314, -3.89866711,\n",
       "        -4.08643223, -4.26340748, -4.42919221, -4.583415  , -4.72573663,\n",
       "        -4.85585052, -4.97348228, -5.07838912, -5.17035717, -5.24920355,\n",
       "        -5.31477618, -5.36695524, -5.40565229, -5.43080741, -5.44238918,\n",
       "        -5.44039321, -5.42484528, -5.39580144, -5.35334808, -5.29760085,\n",
       "        -5.22870156, -5.14681952, -5.05215089, -4.94492067, -4.82538227,\n",
       "        -4.69381545, -4.55052615, -4.39584479, -4.23012935, -4.05376524,\n",
       "        -3.86716557, -3.67076953, -3.46503909, -3.25045989, -3.0275407 ,\n",
       "        -2.79681587, -2.55884474, -2.31420985, -2.06351587, -1.80738709,\n",
       "        -1.54646941, -1.28142927, -1.01295354, -0.74174728, -0.46853013],\n",
       "       [-2.7794672 , -2.55871375, -2.32985076, -2.09356074, -1.85055814,\n",
       "        -1.60158967, -1.34743191, -1.08888991, -0.82679272, -0.56198751,\n",
       "        -0.29533632, -0.02771149,  0.24000547,  0.50692813,  0.77216956,\n",
       "         1.03484746,  1.29408988,  1.54903713,  1.79884611,  2.04269262,\n",
       "         2.27977651,  2.50932733,  2.7306075 ,  2.94291619,  3.14558903,\n",
       "         3.33800068,  3.5195668 ,  3.68974747,  3.84805071,  3.9940323 ,\n",
       "         4.12729705,  4.2474972 ,  4.35433391,  4.44755872,  4.52697343,\n",
       "         4.59243029,  4.6438282 ,  4.68111201,  4.70427103,  4.71333964,\n",
       "         4.70839789,  4.6895685 ,  4.65701542,  4.61093926,  4.55157641,\n",
       "         4.47919796,  4.39410851,  4.29664525,  4.18717357,  4.06608563,\n",
       "         3.93379752,  3.79074936,  3.63740507,  3.47424953,  3.30178685,\n",
       "         3.12053564,  2.93102821,  2.73380984,  2.52943874,  2.31848597,\n",
       "         2.10153178,  1.87916451,  1.65197765,  1.42057042,  1.18554787,\n",
       "         0.94751906,  0.70709613,  0.4648904 ,  0.22151252, -0.02242795,\n",
       "        -0.26632167, -0.50955932, -0.75153467, -0.9916455 , -1.22929681,\n",
       "        -1.46389991, -1.69487217, -1.92163764, -2.14362734, -2.36028281,\n",
       "        -2.57105603, -2.77541052, -2.97282033, -3.16277005, -3.34475776,\n",
       "        -3.51829623, -3.68291643, -3.83816653, -3.98361167, -4.11883413,\n",
       "        -4.24343407, -4.35703339, -4.45927648, -4.54983231, -4.62839364,\n",
       "        -4.69467761, -4.74842828, -4.78941795, -4.81745074, -4.83236193],\n",
       "       [-1.28843931, -1.19770036, -1.1031651 , -1.005113  , -0.90383811,\n",
       "        -0.79964936, -0.69286961, -0.58383516, -0.47289413, -0.36040369,\n",
       "        -0.24672888, -0.13224042, -0.01731437,  0.09766951,  0.21232975,\n",
       "         0.32628514,  0.43915755,  0.55057264,  0.66016186,  0.76756331,\n",
       "         0.87242387,  0.97440187,  1.07316837,  1.1684092 ,  1.25982477,\n",
       "         1.34713113,  1.43006099,  1.50836501,  1.5818138 ,  1.65019777,\n",
       "         1.71332795,  1.77103521,  1.82317088,  1.86960761,  1.9102393 ,\n",
       "         1.94498155,  1.97376998,  1.99656   ,  2.01332613,  2.02406229,\n",
       "         2.02878231,  2.02751867,  2.02032208,  2.00725941,  1.98841326,\n",
       "         1.96388163,  1.93377731,  1.89822789,  1.8573737 ,  1.81136726,\n",
       "         1.76037204,  1.7045623 ,  1.64412331,  1.57925005,  1.51014666,\n",
       "         1.43702427,  1.36010055,  1.27959943,  1.19575103,  1.10879192,\n",
       "         1.01896339,  0.92651104,  0.83168341,  0.73473206,  0.63591186,\n",
       "         0.5354801 ,  0.43369631,  0.33082041,  0.22711271,  0.12283371,\n",
       "         0.01824439, -0.0863934 , -0.19081844, -0.29477041, -0.3979914 ,\n",
       "        -0.50022574, -0.6012196 , -0.70072145, -0.79848186, -0.89425523,\n",
       "        -0.9877998 , -1.07887817, -1.16725696, -1.25270654, -1.33500241,\n",
       "        -1.4139256 , -1.48926437, -1.56081386, -1.6283759 , -1.69175916,\n",
       "        -1.75077917, -1.80526021, -1.8550356 , -1.89994876, -1.93985293,\n",
       "        -1.97461116, -2.00409761, -2.02819787, -2.0468108 , -2.0598483 ]])"
      ]
     },
     "execution_count": 36,
     "metadata": {},
     "output_type": "execute_result"
    }
   ],
   "source": [
    "jposvel[0].xyz.value"
   ]
  },
  {
   "cell_type": "code",
   "execution_count": 37,
   "metadata": {},
   "outputs": [],
   "source": [
    "def get_posvel(body, t):\n",
    "    posvel = astropy.coordinates.get_body_barycentric_posvel(body, t)\n",
    "    \n",
    "    return np.hstack([posvel[0].xyz.value.T, posvel[1].xyz.value.T])"
   ]
  },
  {
   "cell_type": "code",
   "execution_count": 38,
   "metadata": {},
   "outputs": [],
   "source": [
    "jarray = get_posvel('jupiter', ts)"
   ]
  },
  {
   "cell_type": "code",
   "execution_count": 39,
   "metadata": {},
   "outputs": [
    {
     "data": {
      "text/plain": [
       "(100, 6)"
      ]
     },
     "execution_count": 39,
     "metadata": {},
     "output_type": "execute_result"
    }
   ],
   "source": [
    "jarray.shape"
   ]
  },
  {
   "cell_type": "code",
   "execution_count": 40,
   "metadata": {},
   "outputs": [
    {
     "data": {
      "text/plain": [
       "(-5.9618819804934065, 5.466959683301319, -5.309647003695256, 5.1906247209099)"
      ]
     },
     "execution_count": 40,
     "metadata": {},
     "output_type": "execute_result"
    },
    {
     "data": {
      "image/png": "[encoded data removed]",
      "text/plain": [
       "<Figure size 640x480 with 1 Axes>"
      ]
     },
     "metadata": {},
     "output_type": "display_data"
    }
   ],
   "source": [
    "pp.plot(jarray[:,0], jarray[:,1])\n",
    "pp.axis('equal')"
   ]
  },
  {
   "cell_type": "code",
   "execution_count": 41,
   "metadata": {},
   "outputs": [
    {
     "data": {
      "image/png": "[encoded data removed]",
      "text/plain": [
       "<Figure size 640x480 with 1 Axes>"
      ]
     },
     "metadata": {},
     "output_type": "display_data"
    }
   ],
   "source": [
    "for i in range(3,6):\n",
    "    pp.plot(ts.value, jarray[:,i])"
   ]
  },
  {
   "cell_type": "code",
   "execution_count": null,
   "metadata": {},
   "outputs": [],
   "source": []
  }
 ],
 "metadata": {
  "kernelspec": {
   "display_name": "Python 3 (ipykernel)",
   "language": "python",
   "name": "python3"
  },
  "language_info": {
   "codemirror_mode": {
    "name": "ipython",
    "version": 3
   },
   "file_extension": ".py",
   "mimetype": "text/x-python",
   "name": "python",
   "nbconvert_exporter": "python",
   "pygments_lexer": "ipython3",
   "version": "3.10.9"
  },
  "toc": {
   "base_numbering": 1,
   "nav_menu": {},
   "number_sections": true,
   "sideBar": true,
   "skip_h1_title": false,
   "title_cell": "Table of Contents",
   "title_sidebar": "Contents",
   "toc_cell": false,
   "toc_position": {},
   "toc_section_display": true,
   "toc_window_display": false
  }
 },
 "nbformat": 4,
 "nbformat_minor": 4
}
