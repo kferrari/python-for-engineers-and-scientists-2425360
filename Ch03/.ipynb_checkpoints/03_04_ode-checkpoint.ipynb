{
 "cells": [
  {
   "cell_type": "markdown",
   "metadata": {},
   "source": [
    "# 03_04_ode.ipynb - Differential equations with SciPy"
   ]
  },
  {
   "cell_type": "code",
   "execution_count": 1,
   "metadata": {},
   "outputs": [],
   "source": [
    "import math"
   ]
  },
  {
   "cell_type": "code",
   "execution_count": 2,
   "metadata": {},
   "outputs": [],
   "source": [
    "import numpy as np\n",
    "import scipy\n",
    "import scipy.integrate as si\n",
    "import matplotlib.pyplot as pp"
   ]
  },
  {
   "cell_type": "code",
   "execution_count": 3,
   "metadata": {},
   "outputs": [],
   "source": [
    "import numba\n",
    "\n",
    "import astropy\n",
    "import astropy.time\n",
    "import astropy.coordinates\n",
    "import astropy.units\n",
    "import astropy.constants"
   ]
  },
  {
   "cell_type": "code",
   "execution_count": 4,
   "metadata": {},
   "outputs": [],
   "source": [
    "import numba"
   ]
  },
  {
   "cell_type": "markdown",
   "metadata": {},
   "source": [
    "$$y' = t^3 y^2 - \\frac{4}{t} y \\quad \\text{with} \\quad y(2) = -1$$.\n"
   ]
  },
  {
   "cell_type": "code",
   "execution_count": 5,
   "metadata": {},
   "outputs": [],
   "source": [
    "sol = si.solve_ivp(lambda t,y: t**3 * y**2 - (4 / t)*y, [2,3], [-1])"
   ]
  },
  {
   "cell_type": "code",
   "execution_count": 6,
   "metadata": {},
   "outputs": [
    {
     "data": {
      "text/plain": [
       "  message: The solver successfully reached the end of the integration interval.\n",
       "  success: True\n",
       "   status: 0\n",
       "        t: [ 2.000e+00  2.036e+00  2.103e+00  2.190e+00  2.306e+00\n",
       "             2.458e+00  2.652e+00  2.896e+00  3.000e+00]\n",
       "        y: [[-1.000e+00 -7.251e-01 -4.544e-01 -2.845e-01 -1.729e-01\n",
       "             -1.023e-01 -5.882e-02 -3.297e-02 -2.648e-02]]\n",
       "      sol: None\n",
       " t_events: None\n",
       " y_events: None\n",
       "     nfev: 50\n",
       "     njev: 0\n",
       "      nlu: 0"
      ]
     },
     "execution_count": 6,
     "metadata": {},
     "output_type": "execute_result"
    }
   ],
   "source": [
    "sol"
   ]
  },
  {
   "cell_type": "code",
   "execution_count": 7,
   "metadata": {},
   "outputs": [
    {
     "data": {
      "text/plain": [
       "[<matplotlib.lines.Line2D at 0x1286b6cb0>]"
      ]
     },
     "execution_count": 7,
     "metadata": {},
     "output_type": "execute_result"
    },
    {
     "data": {
      "image/png": "[encoded data removed]",
      "text/plain": [
       "<Figure size 640x480 with 1 Axes>"
      ]
     },
     "metadata": {},
     "output_type": "display_data"
    }
   ],
   "source": [
    "pp.plot(sol.t, sol.y[0,:], '.--')\n",
    "\n",
    "x = np.linspace(2,3)\n",
    "pp.plot(x, 1/(x**4*(-np.log(x) - 1/16 + math.log(2))))"
   ]
  },
  {
   "cell_type": "code",
   "execution_count": null,
   "metadata": {},
   "outputs": [],
   "source": [
    "def ydot(t, y):\n",
    "    # how many bodies? make sure the answer is an integer\n",
    "    n = int(y.shape[0] / 6)\n",
    "\n",
    "    # make an empty container for the derivatives\n",
    "    yd = np.zeros_like(y)\n",
    "    \n",
    "    # for each body\n",
    "    for i in range(n):\n",
    "        # set x_i' = v_i (array slice assignment)\n",
    "        yd[i*6:i*6+3] = y[i*6+3:i*6+6]\n",
    "        \n",
    "        # loop over all other bodies\n",
    "        for j in range(n):\n",
    "            if i == j:\n",
    "                continue\n",
    "\n",
    "            # add contribution of planet j to v_i'\n",
    "            rij = y[j*6:j*6+3] - y[i*6:i*6+3]\n",
    "            yd[i*6+3:i*6+6] += G * masses[j] * rij / np.dot(rij,rij)**1.5\n",
    "    \n",
    "    return yd"
   ]
  },
  {
   "cell_type": "code",
   "execution_count": null,
   "metadata": {},
   "outputs": [],
   "source": [
    "# IAU 2012 values from from http://maia.usno.navy.mil/NSFA/NSFA_cbe.html\n",
    "\n",
    "bodies = ['sun','mercury','venus','earth','mars','jupiter','saturn','uranus','neptune']\n",
    "\n",
    "# dictionary of masses\n",
    "massdict = {'sun': 1.0,\n",
    "            'mercury': 1.6601209949637026e-07,\n",
    "            'venus': 2.4478382857373332e-06,\n",
    "            'earth': 3.0034896946063695e-06,\n",
    "            'mars': 3.227156037857755e-07,\n",
    "            'jupiter': 0.0009547918983127075,\n",
    "            'saturn': 0.00028588567008942334,\n",
    "            'uranus': 4.3662495719438076e-05,\n",
    "            'neptune': 5.151383713179197e-05}\n",
    "\n",
    "# array of masses\n",
    "masses = np.array([massdict[body] for body in bodies])"
   ]
  },
  {
   "cell_type": "code",
   "execution_count": null,
   "metadata": {},
   "outputs": [],
   "source": [
    "astropy.constants.G.to('AU^3 / (Msun d^2)')"
   ]
  },
  {
   "cell_type": "code",
   "execution_count": null,
   "metadata": {},
   "outputs": [],
   "source": [
    "G = astropy.constants.G.to('AU^3 / (Msun d^2)').value"
   ]
  },
  {
   "cell_type": "code",
   "execution_count": null,
   "metadata": {},
   "outputs": [],
   "source": [
    "t0 = astropy.time.Time('2021-07-04')"
   ]
  },
  {
   "cell_type": "code",
   "execution_count": null,
   "metadata": {},
   "outputs": [],
   "source": [
    "def get_posvel(body, t):\n",
    "    posvel = astropy.coordinates.get_body_barycentric_posvel(body, t)\n",
    "    \n",
    "    return np.hstack([posvel[0].xyz.value.T, posvel[1].xyz.value.T])"
   ]
  },
  {
   "cell_type": "code",
   "execution_count": null,
   "metadata": {},
   "outputs": [],
   "source": [
    "get_posvel('earth', t0)"
   ]
  },
  {
   "cell_type": "code",
   "execution_count": null,
   "metadata": {},
   "outputs": [],
   "source": [
    "np.array([get_posvel(body, t0) for body in bodies])"
   ]
  },
  {
   "cell_type": "code",
   "execution_count": null,
   "metadata": {},
   "outputs": [],
   "source": [
    "y0 = np.array([get_posvel(body, t0) for body in bodies]).flatten()"
   ]
  },
  {
   "cell_type": "code",
   "execution_count": null,
   "metadata": {},
   "outputs": [],
   "source": [
    "y0.shape"
   ]
  },
  {
   "cell_type": "code",
   "execution_count": null,
   "metadata": {},
   "outputs": [],
   "source": [
    "t1 = astropy.time.Time('2031-07-04')"
   ]
  },
  {
   "cell_type": "code",
   "execution_count": null,
   "metadata": {},
   "outputs": [],
   "source": [
    "t0.mjd, t1.mjd"
   ]
  },
  {
   "cell_type": "code",
   "execution_count": null,
   "metadata": {},
   "outputs": [],
   "source": [
    "orbits = scipy.integrate.solve_ivp(numba.jit(ydot), [t0.mjd, t1.mjd], y0, rtol=1e-9, atol=1e-9)"
   ]
  },
  {
   "cell_type": "code",
   "execution_count": null,
   "metadata": {},
   "outputs": [],
   "source": [
    "orbits"
   ]
  },
  {
   "cell_type": "code",
   "execution_count": null,
   "metadata": {},
   "outputs": [],
   "source": [
    "for i in range(9):\n",
    "    pp.plot(orbits.y[i*6,:], orbits.y[i*6+1,:], label=bodies[i])\n",
    "\n",
    "pp.legend()\n",
    "pp.axis('equal');"
   ]
  }
 ],
 "metadata": {
  "kernelspec": {
   "display_name": "Python 3 (ipykernel)",
   "language": "python",
   "name": "python3"
  },
  "language_info": {
   "codemirror_mode": {
    "name": "ipython",
    "version": 3
   },
   "file_extension": ".py",
   "mimetype": "text/x-python",
   "name": "python",
   "nbconvert_exporter": "python",
   "pygments_lexer": "ipython3",
   "version": "3.10.9"
  },
  "toc": {
   "base_numbering": 1,
   "nav_menu": {},
   "number_sections": true,
   "sideBar": true,
   "skip_h1_title": false,
   "title_cell": "Table of Contents",
   "title_sidebar": "Contents",
   "toc_cell": false,
   "toc_position": {},
   "toc_section_display": true,
   "toc_window_display": false
  }
 },
 "nbformat": 4,
 "nbformat_minor": 4
}
